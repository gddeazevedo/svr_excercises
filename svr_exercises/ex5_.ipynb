{
 "cells": [
  {
   "cell_type": "code",
   "execution_count": 1,
   "id": "a1396f8d",
   "metadata": {},
   "outputs": [
    {
     "name": "stdout",
     "output_type": "stream",
     "text": [
      "           y   f(x) = ŷ         ξ        ξ'  ε  Violação  Violação acima  \\\n",
      "0  -3.438073  -0.406671  0.000000  2.031402  1      True           False   \n",
      "1  -9.239560  -4.238151  0.000000  4.001409  1      True           False   \n",
      "2  13.211473  10.070569  2.140904  0.000000  1      True            True   \n",
      "3  -5.781070  -1.515738  0.000000  3.265332  1      True           False   \n",
      "4  -3.441048  -1.515928  0.000000  0.925120  1      True           False   \n",
      "5   7.725476   7.469190  0.000000  0.000000  1     False           False   \n",
      "6   8.460123   6.938839  0.521284  0.000000  1      True            True   \n",
      "7  28.642855  18.811388  8.831467  0.000000  1      True            True   \n",
      "8  28.285986  19.461319  7.824666  0.000000  1      True            True   \n",
      "9   9.164046   8.685330  0.000000  0.000000  1     False           False   \n",
      "\n",
      "   Violação abaixo  \n",
      "0             True  \n",
      "1             True  \n",
      "2            False  \n",
      "3             True  \n",
      "4             True  \n",
      "5            False  \n",
      "6            False  \n",
      "7            False  \n",
      "8            False  \n",
      "9            False  \n"
     ]
    }
   ],
   "source": [
    "import pandas as pd\n",
    "from sklearn.datasets import make_regression\n",
    "from sklearn.svm import SVR\n",
    "from sklearn.preprocessing import StandardScaler\n",
    "\n",
    "\n",
    "X, y = make_regression(n_samples=10, n_features=1, noise=1, random_state=42)\n",
    "\n",
    "scaler = StandardScaler()\n",
    "X_scaled = scaler.fit_transform(X)\n",
    "\n",
    "epsilon = 1\n",
    "model = SVR(kernel='linear', epsilon=epsilon, C=1.0)\n",
    "model.fit(X_scaled, y)\n",
    "y_pred = model.predict(X_scaled)\n",
    "\n",
    "results = {\n",
    "    \"y\": y,\n",
    "    \"f(x) = ŷ\": y_pred,\n",
    "    \"ξ\": [],\n",
    "    \"ξ'\": [],\n",
    "    \"ε\": epsilon,\n",
    "    \"Violação\": [],\n",
    "    \"Violação acima\": [],\n",
    "    \"Violação abaixo\": []\n",
    "}\n",
    "\n",
    "for y_i, y_pred_i in zip(y, y_pred):\n",
    "    xi      = max(0, y_i - y_pred_i - epsilon)\n",
    "    xi_star = max(0, y_pred_i - y_i - epsilon)\n",
    "    results[\"ξ\"].append(xi)\n",
    "    results[\"ξ'\"].append(xi_star)\n",
    "    results[\"Violação\"].append(xi != 0 or xi_star != 0)\n",
    "    results[\"Violação acima\"].append(xi != 0)\n",
    "    results[\"Violação abaixo\"].append(xi_star != 0)\n",
    "\n",
    "df = pd.DataFrame(results)\n",
    "print(df)\n"
   ]
  }
 ],
 "metadata": {
  "kernelspec": {
   "display_name": "env",
   "language": "python",
   "name": "python3"
  },
  "language_info": {
   "codemirror_mode": {
    "name": "ipython",
    "version": 3
   },
   "file_extension": ".py",
   "mimetype": "text/x-python",
   "name": "python",
   "nbconvert_exporter": "python",
   "pygments_lexer": "ipython3",
   "version": "3.13.5"
  }
 },
 "nbformat": 4,
 "nbformat_minor": 5
}
