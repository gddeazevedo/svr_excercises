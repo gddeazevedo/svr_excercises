{
 "cells": [
  {
   "cell_type": "code",
   "execution_count": null,
   "id": "1c3100f0",
   "metadata": {},
   "outputs": [],
   "source": [
    "import numpy as np\n",
    "import matplotlib.pyplot as plt\n",
    "from sklearn.svm import SVR\n",
    "from sklearn.linear_model import LinearRegression\n",
    "from helpers import synthetic_data\n",
    "\n",
    "\n",
    "X, y = synthetic_data.generate_linear_data(2.0, 1.0, 100)\n",
    "\n",
    "svr = SVR(kernel=\"linear\", epsilon=1)\n",
    "svr.fit(X, y)\n",
    "y_pred_svr = svr.predict(X)\n",
    "\n",
    "linear_regression = LinearRegression()\n",
    "linear_regression.fit(X, y)\n",
    "y_pred_lr = linear_regression.predict(y)\n",
    "\n",
    "\n",
    "plt.figure(figsize=(10, 6))\n",
    "\n",
    "\n"
   ]
  }
 ],
 "metadata": {
  "language_info": {
   "name": "python"
  }
 },
 "nbformat": 4,
 "nbformat_minor": 5
}
